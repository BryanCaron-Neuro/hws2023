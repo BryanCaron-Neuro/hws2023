{
  "nbformat": 4,
  "nbformat_minor": 0,
  "metadata": {
    "celltoolbar": "Slideshow",
    "kernelspec": {
      "display_name": "Python 3",
      "language": "python",
      "name": "python3"
    },
    "language_info": {
      "codemirror_mode": {
        "name": "ipython",
        "version": 3
      },
      "file_extension": ".py",
      "mimetype": "text/x-python",
      "name": "python",
      "nbconvert_exporter": "python",
      "pygments_lexer": "ipython3",
      "version": "3.8.7"
    },
    "toc": {
      "base_numbering": 1,
      "nav_menu": {},
      "number_sections": true,
      "sideBar": true,
      "skip_h1_title": false,
      "title_cell": "Table of Contents",
      "title_sidebar": "Contents",
      "toc_cell": false,
      "toc_position": {},
      "toc_section_display": true,
      "toc_window_display": false
    },
    "colab": {
      "name": "DataLad_Boutiques_tutorial.ipynb",
      "provenance": []
    }
  },
  "cells": [
    {
      "cell_type": "markdown",
      "metadata": {
        "id": "P4JoP2Vl8AkC"
      },
      "source": [
        "# Accessing and reusing BigBrain data with DataLad and Boutiques\n",
        "\n",
        "This tutorial will walk you through the following steps:\n",
        "1. Finding BigBrain datasets in DataLad\n",
        "2. Installing and downloading BigBrain datasets\n",
        "3. Processing BigBrain datasets\n",
        "4. Uploading data derived from BigBrain\n",
        "\n",
        "This tutorial is available on Binder and can be done entirely online, without the need for any local software installation. Familiarity with Linux command lines is recommended but not required.\n",
        "\n",
        "Alternately, if you are familiar with the [Docker](http://docker.io) system and want to run the tutorial on your own computer, you can run all the commands of this tutorial in Docker image `glatard/hws`.\n",
        "\n",
        "The main tools and platforms involved in this tutorial are [DataLad](https://www.datalad.org), [Boutiques](http://boutiques.github.io), and the [Canadian Open Neuroscience Platform](http://portal.conp.ca). Please refer to the documentation of these tools for additional information."
      ]
    },
    {
      "cell_type": "markdown",
      "metadata": {
        "id": "s-_GOTIE8AkG"
      },
      "source": [
        "## Software installation\n",
        "\n",
        "The following script installs the required software. You may have to adapt them if you're running this notebook outside of Google Colab:"
      ]
    },
    {
      "cell_type": "code",
      "metadata": {
        "id": "nvZyaYkm8AkH"
      },
      "source": [
        "!git clone https://github.com/glatard/hws.git && (cd hws && ./install.sh)"
      ],
      "execution_count": null,
      "outputs": []
    },
    {
      "cell_type": "markdown",
      "metadata": {
        "id": "yFiSGbPm8AkJ"
      },
      "source": [
        "## Finding BigBrain datasets in DataLad\n",
        "\n",
        "One of our goals in [HIBALL](https://bigbrainproject.org/hiball.html) is to distribute BigBrain datasets through the uniform interface provided by DataLad. In this part of the tutorial, we will demonstrate how BigBrain data can be downloaded and manipulated using DataLad. A complete introduction to DataLad, including detailed tutorials, is available in the [DataLad handbook](http://handbook.datalad.org/en/latest/index.html)."
      ]
    },
    {
      "cell_type": "markdown",
      "metadata": {
        "id": "MnXjeYIb8AkL"
      },
      "source": [
        "BigBrain DataLad datasets are available through the web portal of the Canadian Open Neuroscience Platform, available at http://portal.conp.ca. They can be found by entering \"BigBrain\" in the search field:\n",
        "\n",
        "![screenshot](figures/search_data.png)\n",
        "\n",
        "https://portal.conp.ca/search?search=bigbrain&sortKey=conpStatus&sortComparitor=asc&page=1&max_per_page=10&cursor=0&limit=10"
      ]
    },
    {
      "cell_type": "markdown",
      "metadata": {
        "id": "qR4k7tRA8AkM"
      },
      "source": [
        "## Installing and downloading BigBrain datasets\n",
        "\n",
        "Once a dataset is identified, instructions on how to download it using DataLad are available in the corresponding dataset page in the CONP portal:\n",
        "\n",
        "![screenshot](figures/download_instructions.png)"
      ]
    },
    {
      "cell_type": "markdown",
      "metadata": {
        "id": "x86lOwzK8AkN"
      },
      "source": [
        "The next steps will go through these instructions."
      ]
    },
    {
      "cell_type": "markdown",
      "metadata": {
        "id": "Z9fV1Xhb8AkO"
      },
      "source": [
        "### Dataset installation\n",
        "\n",
        "First, the CONP dataset should be installed to your local machine using `datalad install`:"
      ]
    },
    {
      "cell_type": "code",
      "metadata": {
        "id": "K_X8XJAF8AkP"
      },
      "source": [
        "!datalad install https://github.com/CONP-PCNO/conp-dataset.git\n",
        "%cd conp-dataset"
      ],
      "execution_count": null,
      "outputs": []
    },
    {
      "cell_type": "markdown",
      "metadata": {
        "id": "8QtNMNcu8AkR"
      },
      "source": [
        "The CONP DataLad dataset contains many datasets, located under `projects`:"
      ]
    },
    {
      "cell_type": "code",
      "metadata": {
        "id": "I297kwAO8AkS"
      },
      "source": [
        "!ls projects"
      ],
      "execution_count": null,
      "outputs": []
    },
    {
      "cell_type": "markdown",
      "metadata": {
        "id": "Nw6WfAX78Akw"
      },
      "source": [
        "The specific BigBrain dataset of interest in this tutorial can be installed as follows:"
      ]
    },
    {
      "cell_type": "code",
      "metadata": {
        "id": "F5nYYiq18Akx"
      },
      "source": [
        "!datalad install projects/BigBrain"
      ],
      "execution_count": null,
      "outputs": []
    },
    {
      "cell_type": "markdown",
      "metadata": {
        "id": "CV6gx-hz8Akz"
      },
      "source": [
        "Importantly, this step does not download the data. Instead, it installs a set of links that could be downloaded at a later stage. Feel free to install any other dataset you might be interested in, this won't involve long transfer times!"
      ]
    },
    {
      "cell_type": "markdown",
      "metadata": {
        "id": "ztEJeLd18Ak1"
      },
      "source": [
        "This dataset contains the 40$\\mu$m BigBrain blocks, in the Nifti and MINC formats:"
      ]
    },
    {
      "cell_type": "code",
      "metadata": {
        "id": "bA4bqIvB8Ak1"
      },
      "source": [
        "!ls projects/BigBrain/3D_Blocks/40um/*"
      ],
      "execution_count": null,
      "outputs": []
    },
    {
      "cell_type": "markdown",
      "metadata": {
        "id": "E4zoajHz8Ak3"
      },
      "source": [
        "It also contains reconstructed 3D volumes at various resolutions and in various spaces:"
      ]
    },
    {
      "cell_type": "code",
      "metadata": {
        "id": "zCdivYIO8Ak9"
      },
      "source": [
        "!ls projects/BigBrain/3D_Volumes/*/*"
      ],
      "execution_count": null,
      "outputs": []
    },
    {
      "cell_type": "markdown",
      "metadata": {
        "id": "fxgom8S18Ak_"
      },
      "source": [
        "### Data download\n",
        "\n",
        "The actual data can be downloaded on demand, using `datalad get`:"
      ]
    },
    {
      "cell_type": "code",
      "metadata": {
        "id": "zihDrQ9v8Ak_"
      },
      "source": [
        "!datalad get projects/BigBrain/3D_Volumes/MNI-ICBM152_Space/nii/full8_400um_2009b_sym.nii.gz"
      ],
      "execution_count": null,
      "outputs": []
    },
    {
      "cell_type": "markdown",
      "metadata": {
        "id": "JqW82R3e8Ak_"
      },
      "source": [
        "The data is now available:"
      ]
    },
    {
      "cell_type": "code",
      "metadata": {
        "scrolled": true,
        "id": "Ai6UI9xn8AlA"
      },
      "source": [
        "%matplotlib inline\n",
        "import nibabel as nib\n",
        "import nilearn.plotting as nilp\n",
        "im1 = nib.load('projects/BigBrain/3D_Volumes/MNI-ICBM152_Space/nii/full8_400um_2009b_sym.nii.gz')\n",
        "nilp.view_img(im1.slicer[100:200,100:200,100:200], bg_img=None, cmap='gray', resampling_interpolation='nearest')"
      ],
      "execution_count": null,
      "outputs": []
    },
    {
      "cell_type": "markdown",
      "metadata": {
        "id": "TtAkWdu38AlA"
      },
      "source": [
        "# Local data processing with Boutiques\n",
        "<img src=\"https://camo.githubusercontent.com/33f89fe4aa4ebb45bf7b404395d29f281700ffb622b0dad304714f29d45ce678/687474703a2f2f626f757469717565732e6769746875622e696f2f696d616765732f6c6f676f2e706e67\" alt=\"Boutiques logo\" title=\"Boutiques logo\" />"
      ]
    },
    {
      "cell_type": "markdown",
      "metadata": {
        "id": "lSO1p9Mk8AlB"
      },
      "source": [
        "## What is Boutiques ?\n",
        "\n",
        "[Intro slides](https://docs.google.com/presentation/d/1w9SC6IMxhTneR1Mac3-RoF8_ps84XDMIexiwpU_0ERo/edit#slide=id.gb8e9b9a204_0_56)"
      ]
    },
    {
      "cell_type": "markdown",
      "metadata": {
        "id": "7-cWnx0w8AlB"
      },
      "source": [
        "## What makes a tool a Boutiques tool?\n",
        "\n",
        "A Boutiques tool is any command line tool that is described within a descriptor file following the Boutiques json schema.\n",
        "\n",
        "In order to execute this tool, input parameters must provided within a json file known as an invocation"
      ]
    },
    {
      "cell_type": "markdown",
      "metadata": {
        "id": "ETG3__kC8AlC"
      },
      "source": [
        "## Steps to process data with Boutiques\n",
        "\n",
        "1. `bosh search` your desired tool\n",
        "2. use `bosh example` as a guide for creating a valid invocation for the tool\n",
        "3. Launch the tool with the command `bosh exec launch`"
      ]
    },
    {
      "cell_type": "markdown",
      "metadata": {
        "id": "-40cGmaM8AlH"
      },
      "source": [
        "## BoSh search\n",
        "\n",
        "To facilitate search of the available tools published to Zenodo, a search functionality is built into the the **Bo**utiques**Sh**ell (bosh) command line interface.\n",
        "\n",
        "Let's take a look at what are the top 10 most pulled descriptors:"
      ]
    },
    {
      "cell_type": "code",
      "metadata": {
        "id": "uN3Zj2qk8AlH"
      },
      "source": [
        "!bosh search"
      ],
      "execution_count": null,
      "outputs": []
    },
    {
      "cell_type": "markdown",
      "metadata": {
        "id": "i2Bd5Ys_8AlI"
      },
      "source": [
        "If we have a tool in mind, we can specify the name of the tool within our query to return descriptors with a matching name"
      ]
    },
    {
      "cell_type": "code",
      "metadata": {
        "id": "REVSaUJr8AlJ"
      },
      "source": [
        "!bosh search fsl"
      ],
      "execution_count": null,
      "outputs": []
    },
    {
      "cell_type": "markdown",
      "metadata": {
        "id": "sAufBfGU8AlJ"
      },
      "source": [
        "The `--exact` flag can be used to return descriptor names with the exact spelling"
      ]
    },
    {
      "cell_type": "code",
      "metadata": {
        "id": "fXMuRO8v8AlJ"
      },
      "source": [
        "!bosh search fsl --exact"
      ],
      "execution_count": null,
      "outputs": []
    },
    {
      "cell_type": "markdown",
      "metadata": {
        "id": "w8j2ortZ8AlJ"
      },
      "source": [
        "## BoSh example\n",
        "\n",
        "The `bosh example` command can provide an example combination tool paramaters.\n",
        "\n",
        "Let's get an example invocation of fslstats (zenodo.4472771)"
      ]
    },
    {
      "cell_type": "code",
      "metadata": {
        "id": "xbYBxuMl8AlK"
      },
      "source": [
        "!bosh example zenodo.4472771"
      ],
      "execution_count": null,
      "outputs": []
    },
    {
      "cell_type": "markdown",
      "metadata": {
        "id": "jK1m0X9i8AlL"
      },
      "source": [
        "To get additional optional parameter, the `--complete` flag can be applied"
      ]
    },
    {
      "cell_type": "code",
      "metadata": {
        "id": "YmtrJaKP8AlL"
      },
      "source": [
        "!bosh example zenodo.4472771 --complete"
      ],
      "execution_count": null,
      "outputs": []
    },
    {
      "cell_type": "markdown",
      "metadata": {
        "id": "7R1Jx2858AlL"
      },
      "source": [
        "Today we'll use fslstats to calculate the histogram of one of the bigbrain blocks. We will do that in a new DataLad dataset:"
      ]
    },
    {
      "cell_type": "code",
      "metadata": {
        "id": "FWwCiasZ8AlL"
      },
      "source": [
        "%cd /content\n",
        "!datalad create histogram\n",
        "%cd histogram"
      ],
      "execution_count": null,
      "outputs": []
    },
    {
      "cell_type": "code",
      "metadata": {
        "id": "uu_BUqxd8AlM"
      },
      "source": [
        "!echo '{\"input_file\": \"../conp-dataset/projects/BigBrain/3D_Volumes/MNI-ICBM152_Space/nii/full8_400um_2009b_sym.nii.gz\", \"h\": 10}' > invocation.json"
      ],
      "execution_count": null,
      "outputs": []
    },
    {
      "cell_type": "markdown",
      "metadata": {
        "id": "hGsyQpfd8AlM"
      },
      "source": [
        "## Launching tools with `bosh exec launch`\n",
        "\n",
        "Once we know which Boutiques tool we'd like to use and have created a valid invocation, we are ready to launch our tool.\n",
        "This can be achieved using the `bosh exec launch` command."
      ]
    },
    {
      "cell_type": "code",
      "metadata": {
        "id": "Caj08B2u8AlP"
      },
      "source": [
        "!bosh exec launch zenodo.4472771 invocation.json"
      ],
      "execution_count": null,
      "outputs": []
    },
    {
      "cell_type": "code",
      "metadata": {
        "id": "1lmFuMuc8AlQ"
      },
      "source": [
        "!mv ../conp-dataset/projects/BigBrain/3D_Volumes/MNI-ICBM152_Space/nii/full8_400um_2009b_sym.txt .\n",
        "!head full8_400um_2009b_sym.txt"
      ],
      "execution_count": null,
      "outputs": []
    },
    {
      "cell_type": "code",
      "metadata": {
        "id": "fkVjApGX8AlR"
      },
      "source": [
        "from matplotlib import pyplot as plt\n",
        "import numpy as np\n",
        "hist_data = np.genfromtxt('full8_400um_2009b_sym.txt')\n",
        "plt.bar(np.arange(len(hist_data[:-1])), hist_data[:-1])\n",
        "plt.show()"
      ],
      "execution_count": null,
      "outputs": []
    },
    {
      "cell_type": "markdown",
      "metadata": {
        "id": "CB72Bq8y8AlT"
      },
      "source": [
        "## Other useful features\n",
        "\n",
        "- Python API\n",
        "- Can interface with Pydra\n",
        "- ..."
      ]
    },
    {
      "cell_type": "markdown",
      "metadata": {
        "id": "SBigjYl38AlT"
      },
      "source": [
        "# Adding derived data to DataLad"
      ]
    },
    {
      "cell_type": "code",
      "metadata": {
        "id": "iZgNEEHM8AlT"
      },
      "source": [
        "!datalad save"
      ],
      "execution_count": null,
      "outputs": []
    },
    {
      "cell_type": "code",
      "metadata": {
        "id": "1oFUpBDu8AlT"
      },
      "source": [
        "!OSF_TOKEN=<ask_your_instructor> datalad create-sibling-osf --title 'BigBrain histogram' \\\n",
        "  --mode exportonly \\\n",
        "  -s osf-export \\\n",
        "  --description \"This carefully acquired data will bring science forward\" \\\n",
        "  --public"
      ],
      "execution_count": null,
      "outputs": []
    },
    {
      "cell_type": "code",
      "metadata": {
        "id": "FFk-oGup8Alc"
      },
      "source": [
        "!OSF_TOKEN=<ask_your_instructor> git-annex export HEAD --to osf-export-storage"
      ],
      "execution_count": null,
      "outputs": []
    },
    {
      "cell_type": "markdown",
      "metadata": {
        "id": "AZkSFoVCxPog"
      },
      "source": [
        "# Use CBRAIN to access and launch tool on BigBrain dataset.\n",
        "\n",
        "In CBRAIN you will be able to access the BigBrain dataset and to launch tool on it (for example fslstats). \n",
        "\n",
        "Following the tutorial [here](https://docs.google.com/presentation/d/1YXFlPkxiGzUyHpbSzpS8X5RviVaosW0vDI0aZ3UlhIE/edit?usp=sharing) we'll launch fslstats on BigBrain dataset. \n",
        "\n",
        "You can login to CBRAIN [here](https://portal.cbrain.mcgill.ca/session/new)."
      ]
    },
    {
      "cell_type": "markdown",
      "metadata": {
        "id": "J4XHngsB1s-b"
      },
      "source": [
        "# Use SFTP to upload files.\n",
        "\n",
        "In order to get your files back we will use CBRAIN SFTP.\n",
        "Documenation can be found [here](https://portal.cbrain.mcgill.ca/doc/manual/uploading.html).\n",
        "\n",
        "\n"
      ]
    },
    {
      "cell_type": "code",
      "metadata": {
        "id": "UM2VbPn88cng"
      },
      "source": [
        "%mkdir cbrain_outputs\n",
        "%cd cbrain_outputs"
      ],
      "execution_count": null,
      "outputs": []
    },
    {
      "cell_type": "markdown",
      "metadata": {
        "id": "47m-S14yPkRE"
      },
      "source": [
        "In order to get your file back we will use CBRAIN SFTP. Documenation can be found here.\n",
        "\n",
        "You will have to type:\n",
        "\n",
        "- `Your password`\n",
        "- `get block*`\n",
        "- `exit`\n"
      ]
    },
    {
      "cell_type": "code",
      "metadata": {
        "id": "0CAejkpD8h_i"
      },
      "source": [
        "!ptyrun sftp -o StrictHostKeyChecking=no -P 7500 YOUR_LOGIN@ace-cbrain-1.cbrain.mcgill.ca"
      ],
      "execution_count": null,
      "outputs": []
    },
    {
      "cell_type": "code",
      "metadata": {
        "id": "SFo8ulePP5as"
      },
      "source": [
        "%ls"
      ],
      "execution_count": null,
      "outputs": []
    }
  ]
}