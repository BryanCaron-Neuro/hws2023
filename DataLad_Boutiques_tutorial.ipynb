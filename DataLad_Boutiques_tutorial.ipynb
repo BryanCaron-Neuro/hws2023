{
 "cells": [
  {
   "cell_type": "markdown",
   "metadata": {
    "slideshow": {
     "slide_type": "slide"
    }
   },
   "source": [
    "# Accessing and reusing BigBrain data with DataLad and Boutiques\n",
    "\n",
    "This tutorial will walk you through the following steps:\n",
    "1. Finding BigBrain datasets in DataLad\n",
    "2. Installing and downloading BigBrain datasets\n",
    "3. Processing BigBrain datasets\n",
    "4. Uploading data derived from BigBrain\n",
    "\n",
    "This tutorial is available on Binder and can be done entirely online, without the need for any local software installation. Familiarity with Linux command lines is recommended but not required.\n",
    "\n",
    "The main tools and platforms involved in this tutorial are [DataLad](https://www.datalad.org), [Boutiques](http://boutiques.github.io), and the [Canadian Open Neuroscience Platform](http://portal.conp.ca). Please refer to the documentation of these tools for additional information."
   ]
  },
  {
   "cell_type": "markdown",
   "metadata": {
    "slideshow": {
     "slide_type": "slide"
    }
   },
   "source": [
    "## Finding BigBrain datasets in DataLad\n",
    "\n",
    "One of our goals in [HIBALL](https://bigbrainproject.org/hiball.html) is to distribute BigBrain datasets through the uniform interface provided by DataLad. In this part of the tutorial, we will demonstrate how BigBrain data can be downloaded and manipulated using DataLad. A complete introduction to DataLad, including detailed tutorials, is available in the [DataLad handbook](http://handbook.datalad.org/en/latest/index.html)."
   ]
  },
  {
   "cell_type": "markdown",
   "metadata": {
    "slideshow": {
     "slide_type": "fragment"
    }
   },
   "source": [
    "BigBrain DataLad datasets are available through the web portal of the Canadian Open Neuroscience Platform, available at http://portal.conp.ca. They can be found by entering \"BigBrain\" in the search field:\n",
    "\n",
    "![screenshot](figures/search_data.png)\n",
    "\n",
    "https://portal.conp.ca/search?search=bigbrain&sortKey=conpStatus&sortComparitor=asc&page=1&max_per_page=10&cursor=0&limit=10"
   ]
  },
  {
   "cell_type": "markdown",
   "metadata": {
    "slideshow": {
     "slide_type": "slide"
    }
   },
   "source": [
    "## Installing and downloading BigBrain datasets\n",
    "\n",
    "Once a dataset is identified, instructions on how to download it using DataLad are available in the corresponding dataset page in the CONP portal:\n",
    "\n",
    "![screenshot](figures/download_instructions.png)"
   ]
  },
  {
   "cell_type": "markdown",
   "metadata": {
    "slideshow": {
     "slide_type": "fragment"
    }
   },
   "source": [
    "The next steps will go through these instructions."
   ]
  },
  {
   "cell_type": "markdown",
   "metadata": {
    "slideshow": {
     "slide_type": "slide"
    }
   },
   "source": [
    "### Dataset installation\n",
    "\n",
    "First, the CONP dataset should be installed to your local machine using `datalad install`:"
   ]
  },
  {
   "cell_type": "code",
   "execution_count": 2,
   "metadata": {
    "slideshow": {
     "slide_type": "fragment"
    }
   },
   "outputs": [
    {
     "name": "stdout",
     "output_type": "stream",
     "text": [
      "/bin/bash: datalad: command not found\r\n"
     ]
    }
   ],
   "source": [
    "!datalad install https://github.com/CONP-PCNO/conp-dataset.git"
   ]
  },
  {
   "cell_type": "code",
   "execution_count": null,
   "metadata": {
    "slideshow": {
     "slide_type": "slide"
    }
   },
   "outputs": [],
   "source": [
    "The specific BigBrain dataset of interest can then be installed:"
   ]
  },
  {
   "cell_type": "code",
   "execution_count": null,
   "metadata": {
    "slideshow": {
     "slide_type": "fragment"
    }
   },
   "outputs": [],
   "source": [
    "!cd conp-dataset\n",
    "!datalad install projects/BigBrain"
   ]
  },
  {
   "cell_type": "markdown",
   "metadata": {
    "slideshow": {
     "slide_type": "fragment"
    }
   },
   "source": [
    "Importantly, this step does not download the data. Instead, it installs a set of links that could be downloaded at a later stage. Feel free to install any other dataset you might be interested in, this won't involve long transfer times!"
   ]
  },
  {
   "cell_type": "markdown",
   "metadata": {
    "slideshow": {
     "slide_type": "slide"
    }
   },
   "source": [
    "This dataset contains the 40$\\mu$m BigBrain blocks, in the Nifti and MINC formats:"
   ]
  },
  {
   "cell_type": "code",
   "execution_count": 7,
   "metadata": {
    "slideshow": {
     "slide_type": "fragment"
    }
   },
   "outputs": [
    {
     "name": "stdout",
     "output_type": "stream",
     "text": [
      "ls: cannot access 'projects/BigBrain/40um/*': No such file or directory\r\n"
     ]
    }
   ],
   "source": [
    "!ls projects/BigBrain/40um/*"
   ]
  },
  {
   "cell_type": "markdown",
   "metadata": {
    "slideshow": {
     "slide_type": "slide"
    }
   },
   "source": [
    "### Data download\n",
    "\n",
    "The actual data can be downloaded on demand, using `datalad get`:"
   ]
  },
  {
   "cell_type": "code",
   "execution_count": 13,
   "metadata": {
    "slideshow": {
     "slide_type": "fragment"
    }
   },
   "outputs": [
    {
     "ename": "SyntaxError",
     "evalue": "invalid syntax (<ipython-input-13-0537c5f89df9>, line 1)",
     "output_type": "error",
     "traceback": [
      "\u001b[0;36m  File \u001b[0;32m\"<ipython-input-13-0537c5f89df9>\"\u001b[0;36m, line \u001b[0;32m1\u001b[0m\n\u001b[0;31m    cd projects/BigBrain\u001b[0m\n\u001b[0m       ^\u001b[0m\n\u001b[0;31mSyntaxError\u001b[0m\u001b[0;31m:\u001b[0m invalid syntax\n"
     ]
    }
   ],
   "source": [
    "cd projects/BigBrain\n",
    "datalad get 3D_Blocks/40um/nii/block40-0001-inv.nii.gz"
   ]
  },
  {
   "cell_type": "markdown",
   "metadata": {},
   "source": [
    "The data is now available:"
   ]
  },
  {
   "cell_type": "code",
   "execution_count": 9,
   "metadata": {},
   "outputs": [
    {
     "ename": "ModuleNotFoundError",
     "evalue": "No module named 'niwidgets'",
     "output_type": "error",
     "traceback": [
      "\u001b[0;31m---------------------------------------------------------------------------\u001b[0m",
      "\u001b[0;31mModuleNotFoundError\u001b[0m                       Traceback (most recent call last)",
      "\u001b[0;32m<ipython-input-9-8aeefacb6b68>\u001b[0m in \u001b[0;36m<module>\u001b[0;34m\u001b[0m\n\u001b[0;32m----> 1\u001b[0;31m \u001b[0;32mfrom\u001b[0m \u001b[0mniwidgets\u001b[0m \u001b[0;32mimport\u001b[0m \u001b[0mNiftiWidget\u001b[0m\u001b[0;34m\u001b[0m\u001b[0;34m\u001b[0m\u001b[0m\n\u001b[0m\u001b[1;32m      2\u001b[0m \u001b[0mmy_widget\u001b[0m \u001b[0;34m=\u001b[0m \u001b[0mNiftiWidget\u001b[0m\u001b[0;34m(\u001b[0m\u001b[0;34m'./3D_Blocks/40um/nii/block40-0001-inv.nii.gz'\u001b[0m\u001b[0;34m)\u001b[0m\u001b[0;34m\u001b[0m\u001b[0;34m\u001b[0m\u001b[0m\n\u001b[1;32m      3\u001b[0m \u001b[0mmy_widget\u001b[0m\u001b[0;34m.\u001b[0m\u001b[0mnifti_plotter\u001b[0m\u001b[0;34m(\u001b[0m\u001b[0mcolormap\u001b[0m\u001b[0;34m=\u001b[0m\u001b[0;34m'gray'\u001b[0m\u001b[0;34m)\u001b[0m\u001b[0;34m\u001b[0m\u001b[0;34m\u001b[0m\u001b[0m\n",
      "\u001b[0;31mModuleNotFoundError\u001b[0m: No module named 'niwidgets'"
     ]
    }
   ],
   "source": [
    "from niwidgets import NiftiWidget\n",
    "my_widget = NiftiWidget('./3D_Blocks/40um/nii/block40-0001-inv.nii.gz')\n",
    "my_widget.nifti_plotter(colormap='gray')"
   ]
  },
  {
   "cell_type": "markdown",
   "metadata": {
    "slideshow": {
     "slide_type": "slide"
    }
   },
   "source": [
    "# Local data processing with Boutiques\n",
    "<img src=\"https://camo.githubusercontent.com/33f89fe4aa4ebb45bf7b404395d29f281700ffb622b0dad304714f29d45ce678/687474703a2f2f626f757469717565732e6769746875622e696f2f696d616765732f6c6f676f2e706e67\" alt=\"Boutiques logo\" title=\"Boutiques logo\" />"
   ]
  },
  {
   "cell_type": "markdown",
   "metadata": {
    "slideshow": {
     "slide_type": "slide"
    }
   },
   "source": [
    "## What is Boutiques ?\n",
    "\n",
    "[Intro slides](https://docs.google.com/presentation/d/1w9SC6IMxhTneR1Mac3-RoF8_ps84XDMIexiwpU_0ERo/edit#slide=id.gb8e9b9a204_0_56)"
   ]
  },
  {
   "cell_type": "markdown",
   "metadata": {
    "slideshow": {
     "slide_type": "slide"
    }
   },
   "source": [
    "## What makes a tool a Boutiques tool?\n",
    "\n",
    "A Boutiques tool is any command line tool that is described within a descriptor file following the Boutiques json schema.\n",
    "\n",
    "In order to execute this tool, input parameters must provided within a json file known as an invocation"
   ]
  },
  {
   "cell_type": "markdown",
   "metadata": {
    "slideshow": {
     "slide_type": "slide"
    }
   },
   "source": [
    "## Steps to process data with Boutiques\n",
    "\n",
    "1. `bosh search` your desired tool\n",
    "2. use `bosh example` as a guide for creating a valid invocation for the tool\n",
    "3. Launch the tool with the command `bosh exec launch`"
   ]
  },
  {
   "cell_type": "markdown",
   "metadata": {
    "slideshow": {
     "slide_type": "slide"
    }
   },
   "source": [
    "## BoSh search\n",
    "\n",
    "To facilitate search of the available tools published to Zenodo, a search functionality is built into the the **Bo**utiques**Sh**ell (bosh) command line interface.\n",
    "\n",
    "Let's take a look at what are the top 10 most pulled descriptors:"
   ]
  },
  {
   "cell_type": "code",
   "execution_count": 2,
   "metadata": {
    "slideshow": {
     "slide_type": "subslide"
    }
   },
   "outputs": [
    {
     "name": "stdout",
     "output_type": "stream",
     "text": [
      "[ INFO ] Showing 10 of 69 result(s), exluding 1 deprecated result(s).\r\n",
      "ID              TITLE                                    DESCRIPTION                                    DOWNLOADS\r\n",
      "zenodo.1482743  fsl_bet                                  Automated brain extraction tool for FSL            73124\r\n",
      "zenodo.3240521  fslstats                                 Descriptor of fslstats from the FSL tool...        23581\r\n",
      "zenodo.2587160  makeblastdb                              Application to create BLAST databases, v...         6460\r\n",
      "zenodo.2602109  MCFLIRT                                  MCFLIRT, as implemented in Nipype (modul...         2418\r\n",
      "zenodo.1451003  qeeg                                     qeeg application                                    2416\r\n",
      "zenodo.3699595  Dipy Tracking and Connectome Generation  Pipeline for generating streamlines and ...         2399\r\n",
      "zenodo.1895219  BIDS App - fmriprep                      fMRIprep is a functional magneticresonan...         2395\r\n",
      "zenodo.2587156  blastdbcheck                             BLAST database integrity and validity ch...         2395\r\n",
      "zenodo.1451001  BIDS app example                         See https://github.com/BIDS-Apps/example            2394\r\n",
      "zenodo.1450997  FreeSurferPipelineBatch-CentOS7          FreeSurferPipelineBatch HCP pipeline                2389\r\n"
     ]
    }
   ],
   "source": [
    "!bosh search"
   ]
  },
  {
   "cell_type": "markdown",
   "metadata": {
    "slideshow": {
     "slide_type": "subslide"
    }
   },
   "source": [
    "If we have a tool in mind, we can specify the name of the tool within our query to return descriptors with a matching name"
   ]
  },
  {
   "cell_type": "code",
   "execution_count": 3,
   "metadata": {
    "slideshow": {
     "slide_type": "subslide"
    }
   },
   "outputs": [
    {
     "name": "stdout",
     "output_type": "stream",
     "text": [
      "[ INFO ] Showing 10 of 18 result(s), exluding 0 deprecated result(s).\r\n",
      "ID              TITLE                                   DESCRIPTION                                    DOWNLOADS\r\n",
      "zenodo.1482743  fsl_bet                                 Automated brain extraction tool for FSL            73124\r\n",
      "zenodo.3240521  fslstats                                Descriptor of fslstats from the FSL tool...        23581\r\n",
      "zenodo.2602109  MCFLIRT                                 MCFLIRT, as implemented in Nipype (modul...         2418\r\n",
      "zenodo.2566455  BIDS App - FSL Diffusion Preprocessing  Preprocessing pipeline for diffusion MRI...         2370\r\n",
      "zenodo.2601876  DTIFit                                  DTIFit, as implemented in Nipype (module...         2367\r\n",
      "zenodo.1450991  fsl_probtrackx2                         probabilistic tracking with crossing fib...         2355\r\n",
      "zenodo.2597643  FLIRT                                   FLIRT, as implemented in Nipype (module:...         2347\r\n",
      "zenodo.1494308  fsl_fast                                FAST (FMRIB's Automated Segmentation Too...         2343\r\n",
      "zenodo.1494312  fsl_first                               FIRST is a model-based segmentation and ...         2340\r\n",
      "zenodo.2639849  FNIRT                                   FNIRT, as implemented in Nipype (module:...         2332\r\n"
     ]
    }
   ],
   "source": [
    "!bosh search fsl"
   ]
  },
  {
   "cell_type": "markdown",
   "metadata": {
    "slideshow": {
     "slide_type": "subslide"
    }
   },
   "source": [
    "The `--exact` flag can be used to return descriptor names with the exact spelling"
   ]
  },
  {
   "cell_type": "code",
   "execution_count": 4,
   "metadata": {
    "slideshow": {
     "slide_type": "subslide"
    }
   },
   "outputs": [
    {
     "name": "stdout",
     "output_type": "stream",
     "text": [
      "[ INFO ] Showing 5 of 5 result(s), exluding 0 deprecated result(s).\r\n",
      "ID              TITLE                                   DESCRIPTION                                    DOWNLOADS\r\n",
      "zenodo.1482743  fsl_bet                                 Automated brain extraction tool for FSL            73124\r\n",
      "zenodo.3240521  fslstats                                Descriptor of fslstats from the FSL tool...        23581\r\n",
      "zenodo.2566455  BIDS App - FSL Diffusion Preprocessing  Preprocessing pipeline for diffusion MRI...         2370\r\n",
      "zenodo.3267250  FslBet601                               Automated brain extraction tool for FSL             2293\r\n",
      "zenodo.3899496  fsl_anat                                General pipeline for processing anatomic...          645\r\n"
     ]
    }
   ],
   "source": [
    "!bosh search fsl --exact"
   ]
  },
  {
   "cell_type": "markdown",
   "metadata": {
    "slideshow": {
     "slide_type": "slide"
    }
   },
   "source": [
    "## BoSh example\n",
    "\n",
    "The `bosh example` command can provide an example combination tool paramaters.\n",
    "\n",
    "Let's get an example invocation of fslstats (zenodo.3240521)"
   ]
  },
  {
   "cell_type": "code",
   "execution_count": 6,
   "metadata": {
    "slideshow": {
     "slide_type": "subslide"
    }
   },
   "outputs": [
    {
     "name": "stdout",
     "output_type": "stream",
     "text": [
      "{\r\n",
      "    \"input_file\": \"f_input_file_55.m\",\r\n",
      "    \"h\": -28\r\n",
      "}\r\n"
     ]
    }
   ],
   "source": [
    "!bosh example zenodo.3240521"
   ]
  },
  {
   "cell_type": "markdown",
   "metadata": {
    "slideshow": {
     "slide_type": "subslide"
    }
   },
   "source": [
    "To get additional optional parameter, the `--complete` flag can be applied"
   ]
  },
  {
   "cell_type": "code",
   "execution_count": 8,
   "metadata": {
    "slideshow": {
     "slide_type": "subslide"
    }
   },
   "outputs": [
    {
     "name": "stdout",
     "output_type": "stream",
     "text": [
      "{\r\n",
      "    \"t\": true,\r\n",
      "    \"input_file\": \"f_input_file_64.cpp\",\r\n",
      "    \"l\": -44.058,\r\n",
      "    \"u\": 32.626,\r\n",
      "    \"r\": true,\r\n",
      "    \"R\": true,\r\n",
      "    \"e\": true,\r\n",
      "    \"E\": true,\r\n",
      "    \"v\": true,\r\n",
      "    \"V\": true,\r\n",
      "    \"m\": true,\r\n",
      "    \"M\": true,\r\n",
      "    \"s\": true,\r\n",
      "    \"S\": true,\r\n",
      "    \"w\": true,\r\n",
      "    \"x\": true,\r\n",
      "    \"X\": true,\r\n",
      "    \"c\": true,\r\n",
      "    \"C\": true,\r\n",
      "    \"p\": 9,\r\n",
      "    \"P\": 14,\r\n",
      "    \"a\": true,\r\n",
      "    \"n\": true,\r\n",
      "    \"k\": \"f_k_86\",\r\n",
      "    \"d\": \"f_d_43\",\r\n",
      "    \"h\": 4,\r\n",
      "    \"H\": [\r\n",
      "        -40.107,\r\n",
      "        -7.563,\r\n",
      "        1.283\r\n",
      "    ]\r\n",
      "}\r\n"
     ]
    }
   ],
   "source": [
    "!bosh example zenodo.3240521 --complete"
   ]
  },
  {
   "cell_type": "markdown",
   "metadata": {
    "slideshow": {
     "slide_type": "subslide"
    }
   },
   "source": [
    "today we'll use fslstats to calculate the histogram of one of the bigbrain blocks"
   ]
  },
  {
   "cell_type": "code",
   "execution_count": 9,
   "metadata": {
    "slideshow": {
     "slide_type": "subslide"
    }
   },
   "outputs": [],
   "source": [
    "!echo '{\"input_file\": \"./block40-0018-inv.nii\", \"h\": 10}' > invocation.json"
   ]
  },
  {
   "cell_type": "markdown",
   "metadata": {
    "slideshow": {
     "slide_type": "slide"
    }
   },
   "source": [
    "## Launching tools with `bosh exec launch`\n",
    "\n",
    "Once we know which Boutiques tool we'd like to use and have created a valid invocation, we are ready to launch our tool.\n",
    "This can be achieved using the `bosh exec launch` command."
   ]
  },
  {
   "cell_type": "code",
   "execution_count": null,
   "metadata": {
    "slideshow": {
     "slide_type": "subslide"
    }
   },
   "outputs": [
    {
     "name": "stdout",
     "output_type": "stream",
     "text": [
      "Docker version 20.10.2, build 2291f61\r\n"
     ]
    }
   ],
   "source": [
    "!bosh exec launch zenodo.3240521 invocation.json"
   ]
  },
  {
   "cell_type": "markdown",
   "metadata": {
    "slideshow": {
     "slide_type": "slide"
    }
   },
   "source": [
    "## Other useful features\n",
    "\n",
    "- Python API\n",
    "- Can interface with Pydra\n",
    "- ..."
   ]
  },
  {
   "cell_type": "markdown",
   "metadata": {
    "slideshow": {
     "slide_type": "slide"
    }
   },
   "source": [
    "# Adding derived data to DataLad"
   ]
  },
  {
   "cell_type": "markdown",
   "metadata": {},
   "source": [
    "Tristan"
   ]
  },
  {
   "cell_type": "code",
   "execution_count": null,
   "metadata": {},
   "outputs": [],
   "source": []
  }
 ],
 "metadata": {
  "celltoolbar": "Slideshow",
  "kernelspec": {
   "display_name": "Python 3",
   "language": "python",
   "name": "python3"
  },
  "language_info": {
   "codemirror_mode": {
    "name": "ipython",
    "version": 3
   },
   "file_extension": ".py",
   "mimetype": "text/x-python",
   "name": "python",
   "nbconvert_exporter": "python",
   "pygments_lexer": "ipython3",
   "version": "3.8.6"
  },
  "toc": {
   "base_numbering": 1,
   "nav_menu": {},
   "number_sections": true,
   "sideBar": true,
   "skip_h1_title": false,
   "title_cell": "Table of Contents",
   "title_sidebar": "Contents",
   "toc_cell": false,
   "toc_position": {},
   "toc_section_display": true,
   "toc_window_display": false
  }
 },
 "nbformat": 4,
 "nbformat_minor": 4
}
