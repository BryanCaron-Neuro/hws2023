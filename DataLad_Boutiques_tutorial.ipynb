{
 "cells": [
  {
   "cell_type": "markdown",
   "metadata": {},
   "source": [
    "# Getting Big Brain data with DataLad"
   ]
  },
  {
   "cell_type": "markdown",
   "metadata": {},
   "source": [
    "Tristan"
   ]
  },
  {
   "attachments": {},
   "cell_type": "markdown",
   "metadata": {
    "slideshow": {
     "slide_type": "slide"
    }
   },
   "source": [
    "# Local data processing with Boutiques\n",
    "<img src=\"https://camo.githubusercontent.com/33f89fe4aa4ebb45bf7b404395d29f281700ffb622b0dad304714f29d45ce678/687474703a2f2f626f757469717565732e6769746875622e696f2f696d616765732f6c6f676f2e706e67\" alt=\"Boutiques logo\" title=\"Boutiques logo\" />"
   ]
  },
  {
   "cell_type": "markdown",
   "metadata": {
    "slideshow": {
     "slide_type": "slide"
    }
   },
   "source": [
    "## What is Boutiques ?\n",
    "\n",
    "[Intro slides](https://docs.google.com/presentation/d/1w9SC6IMxhTneR1Mac3-RoF8_ps84XDMIexiwpU_0ERo/edit#slide=id.gb8e9b9a204_0_56)"
   ]
  },
  {
   "cell_type": "markdown",
   "metadata": {
    "slideshow": {
     "slide_type": "slide"
    }
   },
   "source": [
    "## What makes a tool a Boutiques tool?\n",
    "\n",
    "A Boutiques tool is any command line tool that is described within a descriptor file following the Boutiques json schema.\n",
    "\n",
    "In order to execute this tool, input parameters must provided within a json file known as an invocation"
   ]
  },
  {
   "cell_type": "markdown",
   "metadata": {
    "slideshow": {
     "slide_type": "slide"
    }
   },
   "source": [
    "## Steps to process data with Boutiques\n",
    "\n",
    "1. `bosh search` your desired tool\n",
    "2. use `bosh example` as a guide for creating a valid invocation for the tool\n",
    "3. Launch the tool with the command `bosh exec launch`"
   ]
  },
  {
   "cell_type": "markdown",
   "metadata": {
    "slideshow": {
     "slide_type": "slide"
    }
   },
   "source": [
    "## BoSh search\n",
    "\n",
    "To facilitate search of the available tools published to Zenodo, a search functionality is built into the the **Bo**utiques**Sh**ell (bosh) command line interface.\n",
    "\n",
    "Let's take a look at what are the top 10 most pulled descriptors:"
   ]
  },
  {
   "cell_type": "code",
   "execution_count": 2,
   "metadata": {
    "slideshow": {
     "slide_type": "subslide"
    }
   },
   "outputs": [
    {
     "name": "stdout",
     "output_type": "stream",
     "text": [
      "[ INFO ] Showing 10 of 69 result(s), exluding 1 deprecated result(s).\r\n",
      "ID              TITLE                                    DESCRIPTION                                    DOWNLOADS\r\n",
      "zenodo.1482743  fsl_bet                                  Automated brain extraction tool for FSL            73124\r\n",
      "zenodo.3240521  fslstats                                 Descriptor of fslstats from the FSL tool...        23581\r\n",
      "zenodo.2587160  makeblastdb                              Application to create BLAST databases, v...         6460\r\n",
      "zenodo.2602109  MCFLIRT                                  MCFLIRT, as implemented in Nipype (modul...         2418\r\n",
      "zenodo.1451003  qeeg                                     qeeg application                                    2416\r\n",
      "zenodo.3699595  Dipy Tracking and Connectome Generation  Pipeline for generating streamlines and ...         2399\r\n",
      "zenodo.1895219  BIDS App - fmriprep                      fMRIprep is a functional magneticresonan...         2395\r\n",
      "zenodo.2587156  blastdbcheck                             BLAST database integrity and validity ch...         2395\r\n",
      "zenodo.1451001  BIDS app example                         See https://github.com/BIDS-Apps/example            2394\r\n",
      "zenodo.1450997  FreeSurferPipelineBatch-CentOS7          FreeSurferPipelineBatch HCP pipeline                2389\r\n"
     ]
    }
   ],
   "source": [
    "!bosh search"
   ]
  },
  {
   "cell_type": "markdown",
   "metadata": {
    "slideshow": {
     "slide_type": "subslide"
    }
   },
   "source": [
    "If we have a tool in mind, we can specify the name of the tool within our query to return descriptors with a matching name"
   ]
  },
  {
   "cell_type": "code",
   "execution_count": 3,
   "metadata": {
    "slideshow": {
     "slide_type": "subslide"
    }
   },
   "outputs": [
    {
     "name": "stdout",
     "output_type": "stream",
     "text": [
      "[ INFO ] Showing 10 of 18 result(s), exluding 0 deprecated result(s).\r\n",
      "ID              TITLE                                   DESCRIPTION                                    DOWNLOADS\r\n",
      "zenodo.1482743  fsl_bet                                 Automated brain extraction tool for FSL            73124\r\n",
      "zenodo.3240521  fslstats                                Descriptor of fslstats from the FSL tool...        23581\r\n",
      "zenodo.2602109  MCFLIRT                                 MCFLIRT, as implemented in Nipype (modul...         2418\r\n",
      "zenodo.2566455  BIDS App - FSL Diffusion Preprocessing  Preprocessing pipeline for diffusion MRI...         2370\r\n",
      "zenodo.2601876  DTIFit                                  DTIFit, as implemented in Nipype (module...         2367\r\n",
      "zenodo.1450991  fsl_probtrackx2                         probabilistic tracking with crossing fib...         2355\r\n",
      "zenodo.2597643  FLIRT                                   FLIRT, as implemented in Nipype (module:...         2347\r\n",
      "zenodo.1494308  fsl_fast                                FAST (FMRIB's Automated Segmentation Too...         2343\r\n",
      "zenodo.1494312  fsl_first                               FIRST is a model-based segmentation and ...         2340\r\n",
      "zenodo.2639849  FNIRT                                   FNIRT, as implemented in Nipype (module:...         2332\r\n"
     ]
    }
   ],
   "source": [
    "!bosh search fsl"
   ]
  },
  {
   "cell_type": "markdown",
   "metadata": {
    "slideshow": {
     "slide_type": "subslide"
    }
   },
   "source": [
    "The `--exact` flag can be used to return descriptor names with the exact spelling"
   ]
  },
  {
   "cell_type": "code",
   "execution_count": 4,
   "metadata": {
    "slideshow": {
     "slide_type": "subslide"
    }
   },
   "outputs": [
    {
     "name": "stdout",
     "output_type": "stream",
     "text": [
      "[ INFO ] Showing 5 of 5 result(s), exluding 0 deprecated result(s).\r\n",
      "ID              TITLE                                   DESCRIPTION                                    DOWNLOADS\r\n",
      "zenodo.1482743  fsl_bet                                 Automated brain extraction tool for FSL            73124\r\n",
      "zenodo.3240521  fslstats                                Descriptor of fslstats from the FSL tool...        23581\r\n",
      "zenodo.2566455  BIDS App - FSL Diffusion Preprocessing  Preprocessing pipeline for diffusion MRI...         2370\r\n",
      "zenodo.3267250  FslBet601                               Automated brain extraction tool for FSL             2293\r\n",
      "zenodo.3899496  fsl_anat                                General pipeline for processing anatomic...          645\r\n"
     ]
    }
   ],
   "source": [
    "!bosh search fsl --exact"
   ]
  },
  {
   "cell_type": "markdown",
   "metadata": {
    "slideshow": {
     "slide_type": "slide"
    }
   },
   "source": [
    "## BoSh example\n",
    "\n",
    "The `bosh example` command can provide an example combination tool paramaters.\n",
    "\n",
    "Let's get an example invocation of fslstats (zenodo.3240521)"
   ]
  },
  {
   "cell_type": "code",
   "execution_count": 6,
   "metadata": {
    "slideshow": {
     "slide_type": "subslide"
    }
   },
   "outputs": [
    {
     "name": "stdout",
     "output_type": "stream",
     "text": [
      "{\r\n",
      "    \"input_file\": \"f_input_file_55.m\",\r\n",
      "    \"h\": -28\r\n",
      "}\r\n"
     ]
    }
   ],
   "source": [
    "!bosh example zenodo.3240521"
   ]
  },
  {
   "cell_type": "markdown",
   "metadata": {
    "slideshow": {
     "slide_type": "subslide"
    }
   },
   "source": [
    "To get additional optional parameter, the `--complete` flag can be applied"
   ]
  },
  {
   "cell_type": "code",
   "execution_count": 8,
   "metadata": {
    "slideshow": {
     "slide_type": "subslide"
    }
   },
   "outputs": [
    {
     "name": "stdout",
     "output_type": "stream",
     "text": [
      "{\r\n",
      "    \"t\": true,\r\n",
      "    \"input_file\": \"f_input_file_64.cpp\",\r\n",
      "    \"l\": -44.058,\r\n",
      "    \"u\": 32.626,\r\n",
      "    \"r\": true,\r\n",
      "    \"R\": true,\r\n",
      "    \"e\": true,\r\n",
      "    \"E\": true,\r\n",
      "    \"v\": true,\r\n",
      "    \"V\": true,\r\n",
      "    \"m\": true,\r\n",
      "    \"M\": true,\r\n",
      "    \"s\": true,\r\n",
      "    \"S\": true,\r\n",
      "    \"w\": true,\r\n",
      "    \"x\": true,\r\n",
      "    \"X\": true,\r\n",
      "    \"c\": true,\r\n",
      "    \"C\": true,\r\n",
      "    \"p\": 9,\r\n",
      "    \"P\": 14,\r\n",
      "    \"a\": true,\r\n",
      "    \"n\": true,\r\n",
      "    \"k\": \"f_k_86\",\r\n",
      "    \"d\": \"f_d_43\",\r\n",
      "    \"h\": 4,\r\n",
      "    \"H\": [\r\n",
      "        -40.107,\r\n",
      "        -7.563,\r\n",
      "        1.283\r\n",
      "    ]\r\n",
      "}\r\n"
     ]
    }
   ],
   "source": [
    "!bosh example zenodo.3240521 --complete"
   ]
  },
  {
   "cell_type": "markdown",
   "metadata": {
    "slideshow": {
     "slide_type": "subslide"
    }
   },
   "source": [
    "today we'll use fslstats to calculate the histogram of one of the bigbrain blocks"
   ]
  },
  {
   "cell_type": "code",
   "execution_count": 9,
   "metadata": {
    "slideshow": {
     "slide_type": "subslide"
    }
   },
   "outputs": [],
   "source": [
    "!echo '{\"input_file\": \"./block40-0018-inv.nii\", \"h\": 10}' > invocation.json"
   ]
  },
  {
   "cell_type": "markdown",
   "metadata": {
    "slideshow": {
     "slide_type": "slide"
    }
   },
   "source": [
    "## Launching tools with `bosh exec launch`\n",
    "\n",
    "Once we know which Boutiques tool we'd like to use and have created a valid invocation, we are ready to launch our tool.\n",
    "This can be achieved using the `bosh exec launch` command."
   ]
  },
  {
   "cell_type": "code",
   "execution_count": null,
   "metadata": {
    "slideshow": {
     "slide_type": "subslide"
    }
   },
   "outputs": [
    {
     "name": "stdout",
     "output_type": "stream",
     "text": [
      "Docker version 20.10.2, build 2291f61\r\n"
     ]
    }
   ],
   "source": [
    "!bosh exec launch zenodo.3240521 invocation.json"
   ]
  },
  {
   "cell_type": "markdown",
   "metadata": {
    "slideshow": {
     "slide_type": "slide"
    }
   },
   "source": [
    "## Other useful features\n",
    "\n",
    "- Python API\n",
    "- Can interface with Pydra\n",
    "- ..."
   ]
  },
  {
   "cell_type": "markdown",
   "metadata": {
    "slideshow": {
     "slide_type": "slide"
    }
   },
   "source": [
    "# Adding derived data to DataLad"
   ]
  },
  {
   "cell_type": "markdown",
   "metadata": {},
   "source": [
    "Tristan"
   ]
  },
  {
   "cell_type": "code",
   "execution_count": null,
   "metadata": {},
   "outputs": [],
   "source": []
  }
 ],
 "metadata": {
  "celltoolbar": "Slideshow",
  "kernelspec": {
   "display_name": "Python 3",
   "language": "python",
   "name": "python3"
  },
  "language_info": {
   "codemirror_mode": {
    "name": "ipython",
    "version": 3
   },
   "file_extension": ".py",
   "mimetype": "text/x-python",
   "name": "python",
   "nbconvert_exporter": "python",
   "pygments_lexer": "ipython3",
   "version": "3.8.5"
  },
  "toc": {
   "base_numbering": 1,
   "nav_menu": {},
   "number_sections": true,
   "sideBar": true,
   "skip_h1_title": false,
   "title_cell": "Table of Contents",
   "title_sidebar": "Contents",
   "toc_cell": false,
   "toc_position": {},
   "toc_section_display": true,
   "toc_window_display": false
  }
 },
 "nbformat": 4,
 "nbformat_minor": 4
}
